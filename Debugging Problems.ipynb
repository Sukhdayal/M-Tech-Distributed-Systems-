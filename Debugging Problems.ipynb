{
 "cells": [
  {
   "cell_type": "markdown",
   "id": "b1498250",
   "metadata": {},
   "source": [
    "# Problem 1"
   ]
  },
  {
   "cell_type": "markdown",
   "id": "933e8c4e",
   "metadata": {},
   "source": [
    "# Problem Description: The following Python code is intended to calculate the factorial of a given number using recursion. However, the code contains several bugs. Your task is to identify and fix the bugs."
   ]
  },
  {
   "cell_type": "code",
   "execution_count": null,
   "id": "c99cbf49",
   "metadata": {},
   "outputs": [],
   "source": [
    "### Original Code (With Bugs):\n",
    "def factorial(n):\n",
    "    if n == 0:\n",
    "        return 1\n",
    "    else:\n",
    "        return n * factorial(n-2)\n",
    "\n",
    "num = int(input(\"Enter a number: \"))\n",
    "print(\"Factorial of\", num, \"is\", factorial(num))"
   ]
  },
  {
   "cell_type": "markdown",
   "id": "d6196d8d",
   "metadata": {},
   "source": [
    "##### Expected Output: For example, if the input is `5`, the output should be:\n",
    "##### Factorial of 5 is 120"
   ]
  },
  {
   "cell_type": "markdown",
   "id": "ac0b6852",
   "metadata": {},
   "source": [
    "# Problem 2"
   ]
  },
  {
   "cell_type": "markdown",
   "id": "64bcc23e",
   "metadata": {},
   "source": [
    "# Problem Description: The following Python code is meant to calculate the sum of all even numbers up to a given number `n`. However, there are some bugs in the code. Your task is to identify and fix these bugs."
   ]
  },
  {
   "cell_type": "code",
   "execution_count": null,
   "id": "b0015fe0",
   "metadata": {},
   "outputs": [],
   "source": [
    "### Original Code (With Bugs):\n",
    "def sum_even_numbers(n):\n",
    "    sum = 0\n",
    "    for i in range(0, n+1):\n",
    "        if i % 2 == 0:\n",
    "            sum += i\n",
    "        return sum\n",
    "\n",
    "num = int(input(\"Enter a number: \"))\n",
    "print(\"Sum of even numbers up to\", num, \"is\", sum_even_numbers(num))"
   ]
  },
  {
   "cell_type": "markdown",
   "id": "c4fb3608",
   "metadata": {},
   "source": [
    "##### Expected Output:\n",
    "##### For example, if the input is `10`, the output should be:\n",
    "##### Sum of even numbers up to 10 is 30"
   ]
  },
  {
   "cell_type": "markdown",
   "id": "610bf9c8",
   "metadata": {},
   "source": [
    "# Problem 3"
   ]
  },
  {
   "cell_type": "markdown",
   "id": "dd889406",
   "metadata": {},
   "source": [
    "# Problem Description: The following Python code is supposed to find the longest word in a list of words and also return the number of times this longest word appears in the list. However, the code contains several bugs and inefficiencies. Your task is to identify and fix the bugs and optimize the code."
   ]
  },
  {
   "cell_type": "code",
   "execution_count": null,
   "id": "ff5cd9e2",
   "metadata": {},
   "outputs": [],
   "source": [
    "### Original Code (With Bugs):\n",
    "def find_longest_word(words):\n",
    "    longest_word = \"\"\n",
    "    count = 0\n",
    "    for word in words:\n",
    "        if len(word) > len(longest_word):\n",
    "            longest_word = word\n",
    "            count = 1\n",
    "        elif len(word) == len(longest_word):\n",
    "            count += 1\n",
    "        return longest_word, count\n",
    "\n",
    "words_list = [\"apple\", \"banana\", \"cherry\", \"date\", \"banana\", \"fig\", \"banana\"]\n",
    "longest, occurrences = find_longest_word(words_list)\n",
    "print(\"The longest word is:\", longest)\n",
    "print(\"It appears\", occurrences, \"times\")"
   ]
  },
  {
   "cell_type": "markdown",
   "id": "da84a233",
   "metadata": {},
   "source": [
    "##### Expected Output:\n",
    "##### For the input list `[\"apple\", \"banana\", \"cherry\", \"date\", \"banana\", \"fig\", \"banana\"]`, the output should be:\n",
    "\n",
    "##### The longest word is: banana\n",
    "##### It appears 3 times"
   ]
  },
  {
   "cell_type": "markdown",
   "id": "d40a26c4",
   "metadata": {},
   "source": [
    "# Problem 4"
   ]
  },
  {
   "cell_type": "markdown",
   "id": "5f5bb68c",
   "metadata": {},
   "source": [
    "# Problem Description: The following Python code is intended to reverse the words in a given sentence. However, the code contains several bugs. Your task is to identify and fix the bugs."
   ]
  },
  {
   "cell_type": "code",
   "execution_count": null,
   "id": "c9b1c6d9",
   "metadata": {},
   "outputs": [],
   "source": [
    "### Original Code (With Bugs):\n",
    "def reverse_words(sentence):\n",
    "    words = sentence.split()\n",
    "    reversed_sentence = \"\"\n",
    "    for i in range(len(words)):\n",
    "        reversed_sentence += words[-i] + \" \"\n",
    "    return reversed_sentence.strip()\n",
    "\n",
    "input_sentence = input(\"Enter a sentence: \")\n",
    "print(\"Reversed sentence:\", reverse_words(input_sentence))"
   ]
  },
  {
   "cell_type": "markdown",
   "id": "7ddea5dd",
   "metadata": {},
   "source": [
    "##### Expected Output:\n",
    "##### For example, if the input is `Hello World`, the output should be:\n",
    "##### Reversed sentence: World Hello"
   ]
  },
  {
   "cell_type": "markdown",
   "id": "bbfff521",
   "metadata": {},
   "source": [
    "# Problem 5"
   ]
  },
  {
   "cell_type": "markdown",
   "id": "9c9d79d4",
   "metadata": {},
   "source": [
    "# Problem Description: The following Python code is meant to generate the first `n` numbers of the Fibonacci sequence. However, the code contains several bugs. Your task is to identify and fix these bugs."
   ]
  },
  {
   "cell_type": "code",
   "execution_count": null,
   "id": "3e661c61",
   "metadata": {},
   "outputs": [],
   "source": [
    "### Original Code (With Bugs):\n",
    "def fibonacci_series(n):\n",
    "    fib_sequence = [0, 1]\n",
    "    for i in range(2, n):\n",
    "        next_number = fib_sequence[i-1] + fib_sequence[i-2]\n",
    "        fib_sequence.append(next_number)\n",
    "    return fib_sequence\n",
    "\n",
    "num = int(input(\"Enter the number of terms: \"))\n",
    "print(\"Fibonacci series:\", fibonacci_series(num))"
   ]
  },
  {
   "cell_type": "markdown",
   "id": "ed9e5a0b",
   "metadata": {},
   "source": [
    "##### Expected Output:\n",
    "##### For example, if the input is `5`, the output should be:\n",
    "\n",
    "##### Fibonacci series: [0, 1, 1, 2, 3]"
   ]
  },
  {
   "cell_type": "code",
   "execution_count": null,
   "id": "c6dbbc15",
   "metadata": {},
   "outputs": [],
   "source": []
  }
 ],
 "metadata": {
  "kernelspec": {
   "display_name": "Python 3 (ipykernel)",
   "language": "python",
   "name": "python3"
  },
  "language_info": {
   "codemirror_mode": {
    "name": "ipython",
    "version": 3
   },
   "file_extension": ".py",
   "mimetype": "text/x-python",
   "name": "python",
   "nbconvert_exporter": "python",
   "pygments_lexer": "ipython3",
   "version": "3.11.3"
  }
 },
 "nbformat": 4,
 "nbformat_minor": 5
}

{
 "cells": [
  {
   "cell_type": "markdown",
   "id": "58039df7",
   "metadata": {},
   "source": [
    "# Problem 1"
   ]
  },
  {
   "cell_type": "markdown",
   "id": "aafc09c0",
   "metadata": {},
   "source": [
    "# Problem Description: The following Python code is intended to calculate the factorial of a given number using recursion. However, the code contains several bugs. Your task is to identify and fix the bugs."
   ]
  },
  {
   "cell_type": "code",
   "execution_count": null,
   "id": "555b394f",
   "metadata": {},
   "outputs": [],
   "source": [
    "### Original Code (With Bugs):\n",
    "def factorial(n):\n",
    "    if n == 0:\n",
    "        return 1\n",
    "    else:\n",
    "        return n * factorial(n-2)\n",
    "\n",
    "num = int(input(\"Enter a number: \"))\n",
    "print(\"Factorial of\", num, \"is\", factorial(num))"
   ]
  },
  {
   "cell_type": "markdown",
   "id": "f2789c42",
   "metadata": {},
   "source": [
    "##### Expected Output: For example, if the input is `5`, the output should be:\n",
    "##### Factorial of 5 is 120"
   ]
  },
  {
   "cell_type": "markdown",
   "id": "efd3bc0a",
   "metadata": {},
   "source": [
    "### Solution:\n",
    "Here are the issues and their fixes:\n",
    "1. The recursive call in the function should decrement `n` by 1, not by 2.\n",
    "2. There should be a base case to handle when `n` is 1, in addition to when `n` is 0."
   ]
  },
  {
   "cell_type": "code",
   "execution_count": null,
   "id": "efbff41e",
   "metadata": {},
   "outputs": [],
   "source": [
    "### Debugged Code:\n",
    "def factorial(n):\n",
    "    if n == 0 or n == 1:\n",
    "        return 1\n",
    "    else:\n",
    "        return n * factorial(n-1)\n",
    "\n",
    "num = int(input(\"Enter a number: \"))\n",
    "print(\"Factorial of\", num, \"is\", factorial(num))"
   ]
  },
  {
   "cell_type": "markdown",
   "id": "1270f9be",
   "metadata": {},
   "source": [
    "### Explanation of Fixes:\n",
    "1. **Decrement by 1:** The original code incorrectly decrements `n` by 2, which would cause incorrect calculations for the factorial. Correcting it to `n-1` ensures the correct recursive computation of the factorial.\n",
    "2. **Additional Base Case:** The base case is extended to include both `n == 0` and `n == 1`, ensuring the recursion terminates correctly for both cases."
   ]
  },
  {
   "cell_type": "markdown",
   "id": "6da98a33",
   "metadata": {},
   "source": [
    "# Problem 2"
   ]
  },
  {
   "cell_type": "markdown",
   "id": "45cfd23d",
   "metadata": {},
   "source": [
    "# Problem Description: The following Python code is meant to calculate the sum of all even numbers up to a given number `n`. However, there are some bugs in the code. Your task is to identify and fix these bugs."
   ]
  },
  {
   "cell_type": "code",
   "execution_count": null,
   "id": "7661d177",
   "metadata": {},
   "outputs": [],
   "source": [
    "### Original Code (With Bugs):\n",
    "def sum_even_numbers(n):\n",
    "    sum = 0\n",
    "    for i in range(0, n+1):\n",
    "        if i % 2 == 0:\n",
    "            sum += i\n",
    "        return sum\n",
    "\n",
    "num = int(input(\"Enter a number: \"))\n",
    "print(\"Sum of even numbers up to\", num, \"is\", sum_even_numbers(num))"
   ]
  },
  {
   "cell_type": "markdown",
   "id": "bb6bda20",
   "metadata": {},
   "source": [
    "##### Expected Output:\n",
    "##### For example, if the input is `10`, the output should be:\n",
    "##### Sum of even numbers up to 10 is 30"
   ]
  },
  {
   "cell_type": "markdown",
   "id": "1c5a96a4",
   "metadata": {},
   "source": [
    "### Solution:\n",
    "Here are the issues and their fixes:\n",
    "1. The `return` statement is incorrectly indented inside the loop, causing the function to return prematurely.\n",
    "2. The variable name `sum` should be avoided as it's a built-in Python function, which can lead to unexpected behavior."
   ]
  },
  {
   "cell_type": "code",
   "execution_count": null,
   "id": "c48204af",
   "metadata": {},
   "outputs": [],
   "source": [
    "### Debugged Code:\n",
    "def sum_even_numbers(n):\n",
    "    total = 0\n",
    "    for i in range(0, n+1):\n",
    "        if i % 2 == 0:\n",
    "            total += i\n",
    "    return total\n",
    "\n",
    "num = int(input(\"Enter a number: \"))\n",
    "print(\"Sum of even numbers up to\", num, \"is\", sum_even_numbers(num))"
   ]
  },
  {
   "cell_type": "markdown",
   "id": "c355e602",
   "metadata": {},
   "source": [
    "### Explanation of Fixes:\n",
    "1. **Indentation of `return`:** The `return` statement should be outside the loop so that the loop completes before returning the sum.\n",
    "2. **Avoiding Built-in Names:** Renaming the variable `sum` to `total` prevents any conflict with the built-in `sum()` function in Python."
   ]
  },
  {
   "cell_type": "markdown",
   "id": "cef7d3a7",
   "metadata": {},
   "source": [
    "# Problem 3"
   ]
  },
  {
   "cell_type": "markdown",
   "id": "ebbb4335",
   "metadata": {},
   "source": [
    "# Problem Description: The following Python code is supposed to find the longest word in a list of words and also return the number of times this longest word appears in the list. However, the code contains several bugs and inefficiencies. Your task is to identify and fix the bugs and optimize the code."
   ]
  },
  {
   "cell_type": "code",
   "execution_count": null,
   "id": "349549a7",
   "metadata": {},
   "outputs": [],
   "source": [
    "### Original Code (With Bugs):\n",
    "def find_longest_word(words):\n",
    "    longest_word = \"\"\n",
    "    count = 0\n",
    "    for word in words:\n",
    "        if len(word) > len(longest_word):\n",
    "            longest_word = word\n",
    "            count = 1\n",
    "        elif len(word) == len(longest_word):\n",
    "            count += 1\n",
    "        return longest_word, count\n",
    "\n",
    "words_list = [\"apple\", \"banana\", \"cherry\", \"date\", \"banana\", \"fig\", \"banana\"]\n",
    "longest, occurrences = find_longest_word(words_list)\n",
    "print(\"The longest word is:\", longest)\n",
    "print(\"It appears\", occurrences, \"times\")"
   ]
  },
  {
   "cell_type": "markdown",
   "id": "b0b55ade",
   "metadata": {},
   "source": [
    "##### Expected Output:\n",
    "##### For the input list `[\"apple\", \"banana\", \"cherry\", \"date\", \"banana\", \"fig\", \"banana\"]`, the output should be:\n",
    "\n",
    "##### The longest word is: banana\n",
    "##### It appears 3 times"
   ]
  },
  {
   "cell_type": "markdown",
   "id": "1b098b9a",
   "metadata": {},
   "source": [
    "### Solution:\n",
    "Here are the issues and their fixes:\n",
    "1. The `return` statement is incorrectly placed inside the loop, causing the function to return prematurely after checking the first word.\n",
    "2. The `count` variable is not being updated correctly in all cases.\n",
    "3. The code does not efficiently handle the situation where multiple words of the same length are present in the list."
   ]
  },
  {
   "cell_type": "code",
   "execution_count": null,
   "id": "8f10b6f3",
   "metadata": {},
   "outputs": [],
   "source": [
    "### Debugged and Optimized Code:\n",
    "def find_longest_word(words):\n",
    "    longest_word = \"\"\n",
    "    count = 0\n",
    "    for word in words:\n",
    "        if len(word) > len(longest_word):\n",
    "            longest_word = word\n",
    "            count = 1\n",
    "        elif len(word) == len(longest_word):\n",
    "            if word == longest_word:\n",
    "                count += 1\n",
    "    return longest_word, count\n",
    "\n",
    "words_list = [\"apple\", \"banana\", \"cherry\", \"date\", \"banana\", \"fig\", \"banana\"]\n",
    "longest, occurrences = find_longest_word(words_list)\n",
    "print(\"The longest word is:\", longest)\n",
    "print(\"It appears\", occurrences, \"times\")"
   ]
  },
  {
   "cell_type": "markdown",
   "id": "93705deb",
   "metadata": {},
   "source": [
    "### Explanation of Fixes:\n",
    "1. **Indentation of `return`:** The `return` statement is moved outside the loop to ensure the function processes the entire list.\n",
    "2. **Correct Counting Logic:** The `count` variable is correctly updated"
   ]
  },
  {
   "cell_type": "markdown",
   "id": "e2cd8841",
   "metadata": {},
   "source": [
    "# Problem 4"
   ]
  },
  {
   "cell_type": "markdown",
   "id": "f417d5e6",
   "metadata": {},
   "source": [
    "# Problem Description: The following Python code is intended to reverse the words in a given sentence. However, the code contains several bugs. Your task is to identify and fix the bugs."
   ]
  },
  {
   "cell_type": "code",
   "execution_count": null,
   "id": "5ea1c6e8",
   "metadata": {},
   "outputs": [],
   "source": [
    "### Original Code (With Bugs):\n",
    "def reverse_words(sentence):\n",
    "    words = sentence.split()\n",
    "    reversed_sentence = \"\"\n",
    "    for i in range(len(words)):\n",
    "        reversed_sentence += words[-i] + \" \"\n",
    "    return reversed_sentence.strip()\n",
    "\n",
    "input_sentence = input(\"Enter a sentence: \")\n",
    "print(\"Reversed sentence:\", reverse_words(input_sentence))"
   ]
  },
  {
   "cell_type": "markdown",
   "id": "89b03673",
   "metadata": {},
   "source": [
    "##### Expected Output:\n",
    "##### For example, if the input is `Hello World`, the output should be:\n",
    "##### Reversed sentence: World Hello"
   ]
  },
  {
   "cell_type": "markdown",
   "id": "33472f19",
   "metadata": {},
   "source": [
    "### Solution:\n",
    "Here are the issues and their fixes:\n",
    "1. The index `-i` should be `-i-1` to correctly access the words in reverse order.\n",
    "2. The `reversed_sentence` should be initialized as a list and then joined at the end to handle spaces properly."
   ]
  },
  {
   "cell_type": "code",
   "execution_count": null,
   "id": "041e618f",
   "metadata": {},
   "outputs": [],
   "source": [
    "### Debugged Code:\n",
    "def reverse_words(sentence):\n",
    "    words = sentence.split()\n",
    "    reversed_words = []\n",
    "    for i in range(len(words)):\n",
    "        reversed_words.append(words[-i-1])\n",
    "    return \" \".join(reversed_words)\n",
    "\n",
    "input_sentence = input(\"Enter a sentence: \")\n",
    "print(\"Reversed sentence:\", reverse_words(input_sentence))"
   ]
  },
  {
   "cell_type": "markdown",
   "id": "27656e2e",
   "metadata": {},
   "source": [
    "### Explanation of Fixes:\n",
    "1. **Correcting the Index:** The index should be `-i-1` to correctly access the words from the last to the first in the list.\n",
    "2. **Using a List for Reversed Words:** Appending each word to a list and then joining the list ensures proper spacing between words."
   ]
  },
  {
   "cell_type": "markdown",
   "id": "90576bd2",
   "metadata": {},
   "source": [
    "# Problem 5"
   ]
  },
  {
   "cell_type": "markdown",
   "id": "dc6229c2",
   "metadata": {},
   "source": [
    "# Problem Description: The following Python code is meant to generate the first `n` numbers of the Fibonacci sequence. However, the code contains several bugs. Your task is to identify and fix these bugs."
   ]
  },
  {
   "cell_type": "code",
   "execution_count": null,
   "id": "9dbf8862",
   "metadata": {},
   "outputs": [],
   "source": [
    "### Original Code (With Bugs):\n",
    "def fibonacci_series(n):\n",
    "    fib_sequence = [0, 1]\n",
    "    for i in range(2, n):\n",
    "        next_number = fib_sequence[i-1] + fib_sequence[i-2]\n",
    "        fib_sequence.append(next_number)\n",
    "    return fib_sequence\n",
    "\n",
    "num = int(input(\"Enter the number of terms: \"))\n",
    "print(\"Fibonacci series:\", fibonacci_series(num))"
   ]
  },
  {
   "cell_type": "markdown",
   "id": "715c5f6b",
   "metadata": {},
   "source": [
    "##### Expected Output:\n",
    "##### For example, if the input is `5`, the output should be:\n",
    "\n",
    "##### Fibonacci series: [0, 1, 1, 2, 3]"
   ]
  },
  {
   "cell_type": "markdown",
   "id": "9cebabcd",
   "metadata": {},
   "source": [
    "### Solution:\n",
    "Here are the issues and their fixes:\n",
    "1. The function should handle the cases where `n` is less than or equal to 2.\n",
    "2. The function does not return the correct sequence when `n` is 1 or 2.\n",
    "3. The code doesn't handle negative input, which should ideally return an empty list or an appropriate message."
   ]
  },
  {
   "cell_type": "code",
   "execution_count": null,
   "id": "1e281f1e",
   "metadata": {},
   "outputs": [],
   "source": [
    "### Debugged Code:\n",
    "def fibonacci_series(n):\n",
    "    if n <= 0:\n",
    "        return []\n",
    "    elif n == 1:\n",
    "        return [0]\n",
    "    elif n == 2:\n",
    "        return [0, 1]\n",
    "    \n",
    "    fib_sequence = [0, 1]\n",
    "    for i in range(2, n):\n",
    "        next_number = fib_sequence[i-1] + fib_sequence[i-2]\n",
    "        fib_sequence.append(next_number)\n",
    "    return fib_sequence\n",
    "\n",
    "num = int(input(\"Enter the number of terms: \"))\n",
    "print(\"Fibonacci series:\", fibonacci_series(num))"
   ]
  },
  {
   "cell_type": "markdown",
   "id": "71fff6d7",
   "metadata": {},
   "source": [
    "### Explanation of Fixes:\n",
    "1. **Handling Small `n` Values:** The function now correctly handles the cases where `n` is 0, 1, or 2, ensuring that the correct sequence is returned.\n",
    "2. **Edge Case Handling:** For `n <= 0`, an empty list is returned, as there are no valid Fibonacci numbers.\n",
    "3. **Correct Sequence Construction:** The loop runs only when `n` is greater than 2, ensuring that the Fibonacci sequence is built correctly.\n",
    "\n",
    "This problem helps participants practice handling edge cases, loops, and list manipulation in Python, with a focus on generating a common mathematical sequence."
   ]
  },
  {
   "cell_type": "code",
   "execution_count": null,
   "id": "a0f8a610",
   "metadata": {},
   "outputs": [],
   "source": []
  }
 ],
 "metadata": {
  "kernelspec": {
   "display_name": "Python 3 (ipykernel)",
   "language": "python",
   "name": "python3"
  },
  "language_info": {
   "codemirror_mode": {
    "name": "ipython",
    "version": 3
   },
   "file_extension": ".py",
   "mimetype": "text/x-python",
   "name": "python",
   "nbconvert_exporter": "python",
   "pygments_lexer": "ipython3",
   "version": "3.11.3"
  }
 },
 "nbformat": 4,
 "nbformat_minor": 5
}
